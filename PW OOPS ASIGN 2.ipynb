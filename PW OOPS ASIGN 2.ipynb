{
 "cells": [
  {
   "cell_type": "markdown",
   "id": "0e98c9da",
   "metadata": {},
   "source": [
    "Q1. Explain Class and Object with respect to Object-Oriented Programming. Give a suitable example.\n"
   ]
  },
  {
   "cell_type": "markdown",
   "id": "f7d7d8c1",
   "metadata": {},
   "source": [
    "Class : class is a blueprint or a structure we can say\n",
    "\n",
    "Object : object is a instance of a class who can hold all the methods of the class"
   ]
  },
  {
   "cell_type": "code",
   "execution_count": 7,
   "id": "8d4e9527",
   "metadata": {},
   "outputs": [],
   "source": [
    "class student:\n",
    "    \n",
    "    def student_details(self):\n",
    "        print(\"I am a student\")"
   ]
  },
  {
   "cell_type": "code",
   "execution_count": 8,
   "id": "8cf8dcdf",
   "metadata": {},
   "outputs": [],
   "source": [
    "rohan = student()"
   ]
  },
  {
   "cell_type": "code",
   "execution_count": 9,
   "id": "810d5417",
   "metadata": {},
   "outputs": [
    {
     "name": "stdout",
     "output_type": "stream",
     "text": [
      "I am a student\n"
     ]
    }
   ],
   "source": [
    "rohan.student_details()"
   ]
  },
  {
   "cell_type": "markdown",
   "id": "d5a46c1c",
   "metadata": {},
   "source": [
    "Q2. Name the four pillars of OOPs.\n"
   ]
  },
  {
   "cell_type": "markdown",
   "id": "8b0defb3",
   "metadata": {},
   "source": [
    "1 . Inheritance \n",
    "2 . Polymorphism\n",
    "3 . Encapsulation  \n",
    "4 . Abstraction"
   ]
  },
  {
   "cell_type": "markdown",
   "id": "83b4fbd7",
   "metadata": {},
   "source": [
    "Q3. Explain why the __init__() function is used. Give a suitable example.\n"
   ]
  },
  {
   "cell_type": "markdown",
   "id": "03ad3e2b",
   "metadata": {},
   "source": [
    "Initialization of Object State: The __init__() method is used to initialize the initial state of an object by assigning values to the object's attributes. This allows the object to be created with specific initial values for its attributes, ensuring that it starts with the correct state."
   ]
  },
  {
   "cell_type": "code",
   "execution_count": 19,
   "id": "aa2ed10a",
   "metadata": {},
   "outputs": [],
   "source": [
    "class thetest:\n",
    "    \n",
    "    def __init__(self,a,b,c):\n",
    "        \n",
    "        self.a = a\n",
    "        self.b = b\n",
    "        self.c = c\n",
    "\n",
    "    def var(self):  \n",
    "        return self.a, self.b, self.c"
   ]
  },
  {
   "cell_type": "code",
   "execution_count": 20,
   "id": "5b04d6e2",
   "metadata": {},
   "outputs": [],
   "source": [
    "variables = thetest(3,4,5)"
   ]
  },
  {
   "cell_type": "code",
   "execution_count": 21,
   "id": "a081fc8a",
   "metadata": {},
   "outputs": [
    {
     "data": {
      "text/plain": [
       "(3, 4, 5)"
      ]
     },
     "execution_count": 21,
     "metadata": {},
     "output_type": "execute_result"
    }
   ],
   "source": [
    "variables.var()"
   ]
  },
  {
   "cell_type": "markdown",
   "id": "11c6b315",
   "metadata": {},
   "source": [
    "Q4. Why self is used in OOPs?\n"
   ]
  },
  {
   "cell_type": "markdown",
   "id": "fd86f8be",
   "metadata": {},
   "source": [
    "In object-oriented programming (OOP), \"self\" is used to refer to the instance of the class itself within the class definition. It allows access to the attributes and methods of the current object, facilitating encapsulation and ensuring proper instance-level behavior."
   ]
  },
  {
   "cell_type": "markdown",
   "id": "53ceb073",
   "metadata": {},
   "source": [
    "Q5. What is inheritance? Give an example for each type of inheritance."
   ]
  },
  {
   "cell_type": "markdown",
   "id": "edb1fd67",
   "metadata": {},
   "source": [
    "Inheritance in object-oriented programming enables a class (subclass) to inherit attributes and methods from another class (superclass). This promotes code reuse and facilitates the creation of hierarchical relationships among classes, enhancing modularity and extensibility."
   ]
  },
  {
   "cell_type": "markdown",
   "id": "6df7c76b",
   "metadata": {},
   "source": [
    "There are two types of inheritance "
   ]
  },
  {
   "cell_type": "markdown",
   "id": "7dd4c88b",
   "metadata": {},
   "source": [
    "Multilevel "
   ]
  },
  {
   "cell_type": "code",
   "execution_count": 26,
   "id": "31c9285a",
   "metadata": {},
   "outputs": [],
   "source": [
    "class class1 :\n",
    "    \n",
    "    def class1(self):\n",
    "        \n",
    "        print(\"This is class one\")\n",
    "        "
   ]
  },
  {
   "cell_type": "code",
   "execution_count": 28,
   "id": "15ae762c",
   "metadata": {},
   "outputs": [],
   "source": [
    "class class2(class1):\n",
    "    \n",
    "    def class2(self):\n",
    "        \n",
    "        print(\"This is class two\")"
   ]
  },
  {
   "cell_type": "code",
   "execution_count": 30,
   "id": "38c9b62a",
   "metadata": {},
   "outputs": [],
   "source": [
    "class class3(class2):\n",
    "    \n",
    "    def class3(self):\n",
    "        pass"
   ]
  },
  {
   "cell_type": "code",
   "execution_count": 31,
   "id": "abe2038b",
   "metadata": {},
   "outputs": [],
   "source": [
    "obj = class3()"
   ]
  },
  {
   "cell_type": "code",
   "execution_count": 32,
   "id": "2a15ce0d",
   "metadata": {},
   "outputs": [
    {
     "name": "stdout",
     "output_type": "stream",
     "text": [
      "This is class one\n"
     ]
    }
   ],
   "source": [
    "obj.class1()"
   ]
  },
  {
   "cell_type": "code",
   "execution_count": 33,
   "id": "ca827c6c",
   "metadata": {},
   "outputs": [
    {
     "name": "stdout",
     "output_type": "stream",
     "text": [
      "This is class two\n"
     ]
    }
   ],
   "source": [
    "obj.class2()"
   ]
  },
  {
   "cell_type": "markdown",
   "id": "7fa25eaa",
   "metadata": {},
   "source": [
    "Multiple"
   ]
  },
  {
   "cell_type": "code",
   "execution_count": 35,
   "id": "284d1005",
   "metadata": {},
   "outputs": [],
   "source": [
    "class class11 :\n",
    "    \n",
    "    def class11(self):\n",
    "        \n",
    "        print(\"This is the first class\")"
   ]
  },
  {
   "cell_type": "code",
   "execution_count": 36,
   "id": "a55d5b62",
   "metadata": {},
   "outputs": [],
   "source": [
    "class class22 :\n",
    "    \n",
    "    def class22(self):\n",
    "        \n",
    "        print(\"This is the second class\")"
   ]
  },
  {
   "cell_type": "code",
   "execution_count": 37,
   "id": "3e49d009",
   "metadata": {},
   "outputs": [],
   "source": [
    "c11 = class11()"
   ]
  },
  {
   "cell_type": "code",
   "execution_count": 38,
   "id": "4019e2e6",
   "metadata": {},
   "outputs": [],
   "source": [
    "c22 = class22()"
   ]
  },
  {
   "cell_type": "code",
   "execution_count": 42,
   "id": "0e7e33de",
   "metadata": {},
   "outputs": [],
   "source": [
    "class class33(class11,class22):\n",
    "    \n",
    "    def class33(self):\n",
    "        \n",
    "        print(\"This is class 33\")"
   ]
  },
  {
   "cell_type": "code",
   "execution_count": 43,
   "id": "68004e1c",
   "metadata": {},
   "outputs": [],
   "source": [
    "c33 = class33()"
   ]
  },
  {
   "cell_type": "code",
   "execution_count": 44,
   "id": "2f65722c",
   "metadata": {},
   "outputs": [
    {
     "name": "stdout",
     "output_type": "stream",
     "text": [
      "This is the first class\n"
     ]
    }
   ],
   "source": [
    "c33.class11()"
   ]
  },
  {
   "cell_type": "code",
   "execution_count": 45,
   "id": "b7da1733",
   "metadata": {},
   "outputs": [
    {
     "name": "stdout",
     "output_type": "stream",
     "text": [
      "This is the second class\n"
     ]
    }
   ],
   "source": [
    "c33.class22()"
   ]
  },
  {
   "cell_type": "code",
   "execution_count": 46,
   "id": "2c677336",
   "metadata": {},
   "outputs": [
    {
     "name": "stdout",
     "output_type": "stream",
     "text": [
      "This is class 33\n"
     ]
    }
   ],
   "source": [
    "c33.class33()"
   ]
  },
  {
   "cell_type": "code",
   "execution_count": null,
   "id": "42ca6ded",
   "metadata": {},
   "outputs": [],
   "source": []
  }
 ],
 "metadata": {
  "kernelspec": {
   "display_name": "Python 3 (ipykernel)",
   "language": "python",
   "name": "python3"
  },
  "language_info": {
   "codemirror_mode": {
    "name": "ipython",
    "version": 3
   },
   "file_extension": ".py",
   "mimetype": "text/x-python",
   "name": "python",
   "nbconvert_exporter": "python",
   "pygments_lexer": "ipython3",
   "version": "3.9.13"
  }
 },
 "nbformat": 4,
 "nbformat_minor": 5
}
