{
 "cells": [
  {
   "cell_type": "markdown",
   "id": "d86f0b56",
   "metadata": {},
   "source": [
    "Q1. What is Abstraction in OOps? Explain with an example.\n"
   ]
  },
  {
   "cell_type": "markdown",
   "id": "90ef8c54",
   "metadata": {},
   "source": [
    "Abstraction in Object-Oriented Programming (OOP) is the process of hiding the complex implementation details and showing only the essential features of an object. It allows us to focus on what an object does rather than how it achieves its functionality. In essence, abstraction provides a way to create a simplified representation of real-world objects."
   ]
  },
  {
   "cell_type": "code",
   "execution_count": 1,
   "id": "88543ed2",
   "metadata": {},
   "outputs": [
    {
     "name": "stdout",
     "output_type": "stream",
     "text": [
      "Toyota Camry starts the engine.\n",
      "Toyota Camry stops the engine.\n",
      "Harley-Davidson Sportster starts the engine.\n",
      "Harley-Davidson Sportster stops the engine.\n"
     ]
    }
   ],
   "source": [
    "class Vehicle:\n",
    "    def __init__(self, make, model):\n",
    "        self.make = make\n",
    "        self.model = model\n",
    "    \n",
    "    def start(self):\n",
    "        pass\n",
    "    \n",
    "    def stop(self):\n",
    "        pass\n",
    "\n",
    "class Car(Vehicle):\n",
    "    def start(self):\n",
    "        return f\"{self.make} {self.model} starts the engine.\"\n",
    "    \n",
    "    def stop(self):\n",
    "        return f\"{self.make} {self.model} stops the engine.\"\n",
    "\n",
    "class Motorcycle(Vehicle):\n",
    "    def start(self):\n",
    "        return f\"{self.make} {self.model} starts the engine.\"\n",
    "    \n",
    "    def stop(self):\n",
    "        return f\"{self.make} {self.model} stops the engine.\"\n",
    "\n",
    "car = Car(\"Toyota\", \"Camry\")\n",
    "print(car.start())  \n",
    "print(car.stop())  \n",
    "\n",
    "motorcycle = Motorcycle(\"Harley-Davidson\", \"Sportster\")\n",
    "print(motorcycle.start())  \n",
    "print(motorcycle.stop())   \n"
   ]
  },
  {
   "cell_type": "markdown",
   "id": "8aa4dd6f",
   "metadata": {},
   "source": [
    "Q2. Differentiate between Abstraction and Encapsulation. Explain with an example.\n"
   ]
  },
  {
   "cell_type": "markdown",
   "id": "55ab368c",
   "metadata": {},
   "source": [
    "Abstraction:\n",
    "\n",
    "Abstraction focuses on hiding the complex implementation details and showing only the essential features of an object.\n",
    "It deals with the 'what' aspect of an object, providing a simplified view of an object's functionality to the outside world.\n",
    "Abstraction is achieved through abstract classes, interfaces, and abstract methods, which define a blueprint for objects without providing specific implementation details.\n",
    "It allows programmers to create a high-level view of systems and focus on the essential aspects without worrying about the intricacies of how those functionalities are implemented.\n",
    "\n",
    "\n",
    "Encapsulation:\n",
    "\n",
    "Encapsulation focuses on bundling data (attributes) and methods (functions) that operate on the data into a single unit, known as a class.\n",
    "It deals with the 'how' aspect of an object, ensuring that the data is accessed and modified only through well-defined interfaces (methods) provided by the class.\n",
    "Encapsulation helps in hiding the internal state of an object and preventing direct access to it from outside the class, thus protecting the integrity of the data.\n",
    "It promotes data hiding and information hiding, making the implementation details of a class private and exposing only necessary functionalities to the outside world."
   ]
  },
  {
   "cell_type": "code",
   "execution_count": 3,
   "id": "f45fecfc",
   "metadata": {},
   "outputs": [],
   "source": [
    "# Encapsulation example\n",
    "class Car:\n",
    "    def __init__(self, make, model):\n",
    "        self.__make = make  \n",
    "        self.__model = model \n",
    "    \n",
    "    def get_make(self):\n",
    "        return self.__make\n",
    "    \n",
    "    def set_make(self, make):\n",
    "        self.__make = make\n",
    "\n",
    "    def get_model(self):\n",
    "        return self.__model\n",
    "    \n",
    "    def set_model(self, model):\n",
    "        self.__model = model\n",
    "\n",
    "\n",
    "# Abstraction example\n",
    "from abc import ABC, abstractmethod\n",
    "\n",
    "class Vehicle(ABC):  \n",
    "    def __init__(self, make, model):\n",
    "        self.make = make\n",
    "        self.model = model\n",
    "    \n",
    "    @abstractmethod\n",
    "    def start(self):\n",
    "        pass\n",
    "    \n",
    "    @abstractmethod\n",
    "    def stop(self):\n",
    "        pass\n",
    "\n",
    "class Car(Vehicle):\n",
    "    def start(self):\n",
    "        return f\"{self.make} {self.model} starts the engine.\"\n",
    "    \n",
    "    def stop(self):\n",
    "        return f\"{self.make} {self.model} stops the engine.\"\n",
    "\n",
    "class Motorcycle(Vehicle):\n",
    "    def start(self):\n",
    "        return f\"{self.make} {self.model} starts the engine.\"\n",
    "    \n",
    "    def stop(self):\n",
    "        return f\"{self.make} {self.model} stops the engine.\"\n",
    "\n"
   ]
  },
  {
   "cell_type": "markdown",
   "id": "3c425da1",
   "metadata": {},
   "source": [
    "Q3. What is abc module in python? Why is it used?\n"
   ]
  },
  {
   "cell_type": "markdown",
   "id": "304ef011",
   "metadata": {},
   "source": [
    "The abc module in Python stands for \"Abstract Base Classes.\" It provides a way to define abstract base classes in Python. Abstract base classes are classes that are meant to be subclassed but not instantiated directly. They serve as templates for other classes and provide a way to define a common interface for a group of related classes."
   ]
  },
  {
   "cell_type": "markdown",
   "id": "74a49ea8",
   "metadata": {},
   "source": [
    "Q4. How can we achieve data abstraction?\n"
   ]
  },
  {
   "cell_type": "markdown",
   "id": "e50dcb99",
   "metadata": {},
   "source": [
    "To achieve data abstraction:\n",
    "\n",
    "Use encapsulation to bundle data and methods into classes.\n",
    "Utilize access modifiers like private, protected, and public to control access to data.\n",
    "Define abstract classes and interfaces to provide a common interface without implementation details.\n",
    "Employ getter and setter methods to access and modify data in a controlled manner."
   ]
  },
  {
   "cell_type": "markdown",
   "id": "23da70d8",
   "metadata": {},
   "source": [
    "Q5. Can we create an instance of an abstract class? Explain your answer."
   ]
  },
  {
   "cell_type": "markdown",
   "id": "bb82c173",
   "metadata": {},
   "source": [
    "No, we cannot create an instance of an abstract class in most object-oriented programming languages. Abstract classes are meant to be incomplete, serving as templates for other classes to inherit from. They contain one or more abstract methods, which are meant to be implemented by subclasses.\n",
    "\n",
    "Attempting to create an instance of an abstract class directly would be meaningless because abstract classes often lack complete implementations of their methods. Therefore, most programming languages prevent the instantiation of abstract classes to enforce this design principle.\n",
    "\n",
    "For example, in Python, trying to instantiate an abstract class directly will result in a TypeError. Instead, you would typically create instances of concrete subclasses that provide implementations for all abstract methods defined in the abstract class.\n"
   ]
  },
  {
   "cell_type": "code",
   "execution_count": null,
   "id": "a2761dc6",
   "metadata": {},
   "outputs": [],
   "source": []
  }
 ],
 "metadata": {
  "kernelspec": {
   "display_name": "Python 3 (ipykernel)",
   "language": "python",
   "name": "python3"
  },
  "language_info": {
   "codemirror_mode": {
    "name": "ipython",
    "version": 3
   },
   "file_extension": ".py",
   "mimetype": "text/x-python",
   "name": "python",
   "nbconvert_exporter": "python",
   "pygments_lexer": "ipython3",
   "version": "3.9.13"
  }
 },
 "nbformat": 4,
 "nbformat_minor": 5
}
