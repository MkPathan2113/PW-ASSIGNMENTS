{
 "cells": [
  {
   "cell_type": "markdown",
   "id": "6328665c",
   "metadata": {},
   "source": [
    "#Q1. How do you comment code in Python? What are the different types of comments?\n",
    "\n",
    "ANS : THERE ARE TWO METHODS OF COMMENT IN PYTHON IN WHICH ARE AS FOLLOWS :\n",
    "\n",
    "1. SINGLE LINE COMMENTS \n",
    "2. MULTI LINE COMMENTS \n",
    "    \n",
    "SINGLE LINE COMMENTS : WE CAN DO SINGLE LINE COMMENTS WITH THE HELP OF THE HASH(#) AT THE START OF THE LINE FROM WHERE\n",
    "                       WE WANT TO DO COMMENT\n",
    "                       \n",
    "MULTI LINE COMMENTS : WE CAN DO MULTI LINE COMMENTS WITH THE HELP OF THE TRIPLE INVERTED COMMMA'S LIKE \n",
    "                      (\"\"\" \"\"\") THIS OR ('''  ''') LIKE THIS WE CAN DO "
   ]
  },
  {
   "cell_type": "markdown",
   "id": "ebb81dc7",
   "metadata": {},
   "source": [
    "#Q2. What are variables in Python? How do you declare and assign values to variables?\n",
    "\n",
    "ANS : VARIABLES IN PYTHON ARE NAMES THAT REFERS TO A OBJECT IN MEMORY \n",
    "      THEY ARE CREATED USING ASSIGNMENT(=) OPERATOR AND CAN HOLD VALUES OF DIFFRENT DATA TYPES\n",
    "\n",
    "EX : a = 2"
   ]
  },
  {
   "cell_type": "markdown",
   "id": "f35db036",
   "metadata": {},
   "source": [
    "#Q3. How do you convert one data type to another in Python?\n",
    "\n",
    "ANS : You can convert one data type to another in Python using type casting functions like int(), float(), str(), etc., \n",
    "or using constructors of the desired data type, such as int(), float(), str(), list(), tuple(), dict(), set(), etc."
   ]
  },
  {
   "cell_type": "markdown",
   "id": "2ce9edc9",
   "metadata": {},
   "source": [
    "#Q4. How do you write and execute a Python script from the command line?\n",
    "\n",
    "Write the Script: Use a text editor to create a Python script with a .py extension, e.g., script.py.\n",
    "\n",
    "Write Your Python Code: Inside the script file, write your Python code.\n",
    "\n",
    "Save the Script: Save the file with your Python code.\n",
    "\n",
    "Open Command Line / Terminal: Open the command line or terminal on your system.\n",
    "\n",
    "Navigate to the Directory: Use the cd command to navigate to the directory where your Python script is saved.\n",
    "\n",
    "Execute the Script: Enter python script.py (replace script.py with the name of your script file) and press Enter to execute the script.\n",
    "\n",
    "EX :    python hello.py\n",
    "\n",
    "    "
   ]
  },
  {
   "cell_type": "code",
   "execution_count": 2,
   "id": "a02d6f2e",
   "metadata": {},
   "outputs": [
    {
     "name": "stdout",
     "output_type": "stream",
     "text": [
      "[2, 3]\n"
     ]
    }
   ],
   "source": [
    "# Q5. Given a list my_list = [1, 2, 3, 4, 5], write the code to slice the list and obtain the sub-list [2, 3].\n",
    "\n",
    "my_list = [1, 2, 3, 4, 5] \n",
    "\n",
    "print(my_list[1:3])"
   ]
  },
  {
   "cell_type": "code",
   "execution_count": 3,
   "id": "fe218ed6",
   "metadata": {},
   "outputs": [],
   "source": [
    "# Q6. What is a complex number in mathematics, and how is it represented in Python?\n",
    "\n",
    "#In mathematics, a complex number is a number that comprises a real part and an imaginary part\n",
    "\n",
    "z = 3 + 2j\n"
   ]
  },
  {
   "cell_type": "code",
   "execution_count": 4,
   "id": "c4739cd7",
   "metadata": {},
   "outputs": [],
   "source": [
    "# Q7. What is the correct way to declare a variable named age and assign the value 25 to it?\n",
    "\n",
    "age = 25"
   ]
  },
  {
   "cell_type": "code",
   "execution_count": 5,
   "id": "bbfb0964",
   "metadata": {},
   "outputs": [
    {
     "name": "stdout",
     "output_type": "stream",
     "text": [
      "<class 'float'>\n"
     ]
    }
   ],
   "source": [
    "# Q8. Declare a variable named price and assign the value 9.99 to it. What data type does this variable\n",
    "# belong to?\n",
    "\n",
    "price = 9.99\n",
    "\n",
    "print(type(price))"
   ]
  },
  {
   "cell_type": "code",
   "execution_count": 6,
   "id": "6027789d",
   "metadata": {},
   "outputs": [
    {
     "name": "stdout",
     "output_type": "stream",
     "text": [
      "Shubham\n"
     ]
    }
   ],
   "source": [
    "# Q9. Create a variable named name and assign your full name to it as a string. How would you print the\n",
    "# value of this variable?\n",
    "\n",
    "name = \"Shubham\"\n",
    "\n",
    "print(name)"
   ]
  },
  {
   "cell_type": "code",
   "execution_count": 9,
   "id": "4e4e2e55",
   "metadata": {},
   "outputs": [
    {
     "name": "stdout",
     "output_type": "stream",
     "text": [
      "World\n"
     ]
    }
   ],
   "source": [
    "# Q10. Given the string \"Hello, World!\", extract the substring \"World\".\n",
    "\n",
    "s = \"Hello, World!\"\n",
    "\n",
    "print(s[7:12])\n"
   ]
  },
  {
   "cell_type": "code",
   "execution_count": 10,
   "id": "ab888f4e",
   "metadata": {},
   "outputs": [],
   "source": [
    "# Q11. Create a variable named \"is_student\" and assign it a boolean value indicating whether you are\n",
    "# currently a student or not.\n",
    "\n",
    "is_student = True  # If you are currently a student, assign True; otherwise, assign False\n",
    "\n"
   ]
  },
  {
   "cell_type": "code",
   "execution_count": null,
   "id": "f53b0474",
   "metadata": {},
   "outputs": [],
   "source": []
  }
 ],
 "metadata": {
  "kernelspec": {
   "display_name": "Python 3 (ipykernel)",
   "language": "python",
   "name": "python3"
  },
  "language_info": {
   "codemirror_mode": {
    "name": "ipython",
    "version": 3
   },
   "file_extension": ".py",
   "mimetype": "text/x-python",
   "name": "python",
   "nbconvert_exporter": "python",
   "pygments_lexer": "ipython3",
   "version": "3.9.13"
  }
 },
 "nbformat": 4,
 "nbformat_minor": 5
}
