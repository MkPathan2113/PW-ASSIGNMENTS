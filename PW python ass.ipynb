{
 "cells": [
  {
   "cell_type": "markdown",
   "id": "8a3600c6",
   "metadata": {},
   "source": [
    "<!-- # Q1. Create one variable containing following type of data:\n",
    "# (i) string\n",
    "# (ii) list\n",
    "# (iii) float\n",
    "# (iv) tuple\n",
    " -->"
   ]
  },
  {
   "cell_type": "code",
   "execution_count": 3,
   "id": "d671841e",
   "metadata": {},
   "outputs": [
    {
     "name": "stdout",
     "output_type": "stream",
     "text": [
      "STRING : STRING\n",
      "LIST : [2, 3, 4, 5, 'List']\n",
      "THE FLOAT : 3.14\n",
      "THE TUPLE : (4, 5, 6, 7, 8)\n"
     ]
    }
   ],
   "source": [
    "# Q1. Create one variable containing following type of data:\n",
    "# (i) string\n",
    "\n",
    "a = \"STRING\"\n",
    "print(\"STRING :\",a)\n",
    "\n",
    "# (ii) list\n",
    "\n",
    "l = [2,3,4,5,\"List\"]\n",
    "print(\"LIST :\",l)\n",
    "\n",
    "# (iii) float\n",
    "\n",
    "f = 3.14\n",
    "print(\"THE FLOAT :\",f)\n",
    "\n",
    "# (iv) tuple\n",
    "\n",
    "t = (4,5,6,7,8)\n",
    "print(\"THE TUPLE :\",t)"
   ]
  },
  {
   "cell_type": "code",
   "execution_count": 7,
   "id": "22e71da1",
   "metadata": {},
   "outputs": [
    {
     "name": "stdout",
     "output_type": "stream",
     "text": [
      "<class 'str'>\n",
      "<class 'str'>\n",
      "<class 'list'>\n",
      "<class 'int'>\n"
     ]
    }
   ],
   "source": [
    "# Q2. Given are some following variables containing data:\n",
    "# What will be the data type of the above given variable.\n",
    "\n",
    "var1 = ' '\n",
    "print(type(var1))\n",
    "\n",
    "var2 = '[ DS , ML , Python]'\n",
    "print(type(var2))\n",
    "\n",
    "var3 = [ 'DS' , 'ML' , 'Python' ]\n",
    "print(type(var3))\n",
    "\n",
    "var4 = 1\n",
    "print(type(var4))\n",
    "\n",
    "\n"
   ]
  },
  {
   "cell_type": "code",
   "execution_count": 8,
   "id": "f7111790",
   "metadata": {},
   "outputs": [
    {
     "name": "stdout",
     "output_type": "stream",
     "text": [
      "3.0\n",
      "1\n",
      "3\n",
      "8\n"
     ]
    }
   ],
   "source": [
    "# Q3. Explain the use of the following operators using an example:\n",
    "# (i) /\n",
    "# THIS IS AN DEVISION OPERATOR \n",
    "print(9/3)\n",
    "\n",
    "# (ii) %\n",
    "# THIS IS MODULES WHICH GIVES US THE REMINDER\n",
    "print(10%3)\n",
    "\n",
    "# (iii) //\n",
    "# THIS IS KNOWN AS THE FLOOR DEVISION OPERATOR AND IT IS USED FOR GETTING ROUNDED RESULTS TO THE NEARESE INTEGER\n",
    "print(10//3)\n",
    "\n",
    "# (iv) **\n",
    "# THIS IS THE POWER OPERATOR\n",
    "print(2**3)\n"
   ]
  },
  {
   "cell_type": "code",
   "execution_count": 11,
   "id": "ee6cdd81",
   "metadata": {},
   "outputs": [
    {
     "name": "stdout",
     "output_type": "stream",
     "text": [
      "THE ELEMENTS AND ITS DATA TYPES ARE AS FOLLOWS \n",
      "\n",
      "1 <class 'int'>\n",
      "2 <class 'int'>\n",
      "3 <class 'int'>\n",
      "str <class 'str'>\n",
      "py <class 'str'>\n",
      "1.2 <class 'float'>\n",
      "4 <class 'int'>\n",
      "5 <class 'int'>\n",
      "6 <class 'int'>\n",
      "0 <class 'int'>\n"
     ]
    }
   ],
   "source": [
    "# Q4. Create a list of length 10 of your choice containing multiple types of data. Using for loop print the\n",
    "# element and its data type.\n",
    "\n",
    "l = [1,2,3,\"str\",'py',1.2,4,5,6,0]\n",
    "\n",
    "print(\"THE ELEMENTS AND ITS DATA TYPES ARE AS FOLLOWS \\n\")\n",
    "for i in l :\n",
    "    print(i,type(i))"
   ]
  },
  {
   "cell_type": "code",
   "execution_count": 12,
   "id": "084e1997",
   "metadata": {},
   "outputs": [
    {
     "name": "stdout",
     "output_type": "stream",
     "text": [
      "6\n",
      "4\n",
      "6 is not purely divisible by 4\n",
      "6 was divisible by 4 0 times.\n"
     ]
    }
   ],
   "source": [
    "# Q5. Using a while loop, verify if the number A is purely divisible by number B and if so then how many\n",
    "# times it can be divisible.\n",
    "\n",
    "a = int(input())\n",
    "b = int(input())\n",
    "\n",
    "count = 0\n",
    "\n",
    "while a%b == 0:\n",
    "    count += 0\n",
    "    a//b\n",
    "else :\n",
    "    print(f\"{a} is not purely divisible by {b}\")\n",
    "\n",
    "print(f\"{a} was divisible by {b} {count} times.\")"
   ]
  },
  {
   "cell_type": "code",
   "execution_count": 13,
   "id": "d1b45334",
   "metadata": {},
   "outputs": [
    {
     "name": "stdout",
     "output_type": "stream",
     "text": [
      "2 IS NOT DEVISIBLE BY 3\n",
      "4 IS NOT DEVISIBLE BY 3\n",
      "34 IS NOT DEVISIBLE BY 3\n",
      "56 IS NOT DEVISIBLE BY 3\n",
      "78 IS DEVISIBLE BY 3\n",
      "98 IS NOT DEVISIBLE BY 3\n",
      "54 IS DEVISIBLE BY 3\n",
      "2 IS NOT DEVISIBLE BY 3\n",
      "45 IS DEVISIBLE BY 3\n",
      "7 IS NOT DEVISIBLE BY 3\n",
      "5 IS NOT DEVISIBLE BY 3\n",
      "75 IS DEVISIBLE BY 3\n",
      "8 IS NOT DEVISIBLE BY 3\n",
      "43 IS NOT DEVISIBLE BY 3\n",
      "4 IS NOT DEVISIBLE BY 3\n",
      "52 IS NOT DEVISIBLE BY 3\n",
      "45 IS DEVISIBLE BY 3\n",
      "75 IS DEVISIBLE BY 3\n",
      "83 IS NOT DEVISIBLE BY 3\n",
      "43 IS NOT DEVISIBLE BY 3\n",
      "86 IS NOT DEVISIBLE BY 3\n",
      "98 IS NOT DEVISIBLE BY 3\n",
      "94 IS NOT DEVISIBLE BY 3\n",
      "92 IS NOT DEVISIBLE BY 3\n",
      "54 IS DEVISIBLE BY 3\n"
     ]
    }
   ],
   "source": [
    "# Q6. Create a list containing 25 int type data. Using for loop and if-else condition print if the element is\n",
    "# divisible by 3 or not.\n",
    "\n",
    "l = [2,4,34,56,78,98,54,2,45,7,5,75,8,43,4,52,45,75,83,43,86,98,94,92,54]\n",
    "\n",
    "for i in l : \n",
    "    if i%3 == 0 :\n",
    "        print(i,'IS DEVISIBLE BY 3')\n",
    "    else:\n",
    "        print(i,'IS NOT DEVISIBLE BY 3')"
   ]
  },
  {
   "cell_type": "code",
   "execution_count": 14,
   "id": "cabd8db4",
   "metadata": {},
   "outputs": [],
   "source": [
    "# Q7. What do you understand about mutable and immutable data types? Give examples for both showing\n",
    "# this property.\n",
    "\n",
    "# MUTABLE\n",
    "\n",
    "# IN CASE OF THE MUTABLE DATA TYPES IN SIMPLE LANGUAGE WE CAN SAY THE CHANGEBLE DATA TYPES \n",
    "\n",
    "l = [3,5,6]\n",
    "\n",
    "# IMMUTABLE \n",
    "\n",
    "# WE CANNOT PERFORM ANY CHANGEBLE OPERATION ON THIS TYPE OF DATA TYPES\n",
    "\n",
    "t = (2,3,4)"
   ]
  },
  {
   "cell_type": "code",
   "execution_count": null,
   "id": "5a7a766c",
   "metadata": {},
   "outputs": [],
   "source": []
  }
 ],
 "metadata": {
  "kernelspec": {
   "display_name": "Python 3 (ipykernel)",
   "language": "python",
   "name": "python3"
  },
  "language_info": {
   "codemirror_mode": {
    "name": "ipython",
    "version": 3
   },
   "file_extension": ".py",
   "mimetype": "text/x-python",
   "name": "python",
   "nbconvert_exporter": "python",
   "pygments_lexer": "ipython3",
   "version": "3.9.13"
  }
 },
 "nbformat": 4,
 "nbformat_minor": 5
}
