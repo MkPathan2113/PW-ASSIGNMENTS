{
 "cells": [
  {
   "cell_type": "markdown",
   "id": "1774ec90",
   "metadata": {},
   "source": [
    "Q1, Create a vehicle class with an init method having instance variables as name_of_vehicle, max_speed\n",
    "and average_of_vehicle.\n"
   ]
  },
  {
   "cell_type": "code",
   "execution_count": 4,
   "id": "af95ccb8",
   "metadata": {},
   "outputs": [],
   "source": [
    "class vehicle :\n",
    "    \n",
    "    def __init__(self , name , max_speed , avg):\n",
    "        \n",
    "        self.name = name \n",
    "        self.max_speed = max_speed\n",
    "        self.avg = avg"
   ]
  },
  {
   "cell_type": "code",
   "execution_count": 22,
   "id": "4ab6e860",
   "metadata": {},
   "outputs": [],
   "source": [
    "obj = vehicle(\"Scorpio\" , 10 , 20)"
   ]
  },
  {
   "cell_type": "code",
   "execution_count": 26,
   "id": "31ae8c9d",
   "metadata": {},
   "outputs": [
    {
     "data": {
      "text/plain": [
       "20"
      ]
     },
     "execution_count": 26,
     "metadata": {},
     "output_type": "execute_result"
    }
   ],
   "source": [
    "obj.avg"
   ]
  },
  {
   "cell_type": "markdown",
   "id": "b9b2a1fa",
   "metadata": {},
   "source": [
    "Q2. Create a child class car from the vehicle class created in Que 1, which will inherit the vehicle class.\n",
    "Create a method named seating_capacity which takes capacity as an argument and returns the name of\n",
    "the vehicle and its seating capacity.\n"
   ]
  },
  {
   "cell_type": "code",
   "execution_count": 23,
   "id": "c3c7ed1c",
   "metadata": {},
   "outputs": [],
   "source": [
    "class car (vehicle):\n",
    "    \n",
    "    def seating_capacity(self,seats):\n",
    "        \n",
    "        self.seats = seats\n",
    "        return self.name , self.seats"
   ]
  },
  {
   "cell_type": "code",
   "execution_count": 27,
   "id": "fa3eaca2",
   "metadata": {},
   "outputs": [],
   "source": [
    "veh_obj = car(\"Nano\" , 1000 , 2000)"
   ]
  },
  {
   "cell_type": "code",
   "execution_count": 29,
   "id": "9da03c56",
   "metadata": {},
   "outputs": [
    {
     "data": {
      "text/plain": [
       "1000"
      ]
     },
     "execution_count": 29,
     "metadata": {},
     "output_type": "execute_result"
    }
   ],
   "source": [
    "veh_obj.max_speed"
   ]
  },
  {
   "cell_type": "code",
   "execution_count": 28,
   "id": "a759ac55",
   "metadata": {},
   "outputs": [
    {
     "data": {
      "text/plain": [
       "('Nano', 10)"
      ]
     },
     "execution_count": 28,
     "metadata": {},
     "output_type": "execute_result"
    }
   ],
   "source": [
    "veh_obj.seating_capacity(10)"
   ]
  },
  {
   "cell_type": "markdown",
   "id": "cdc33dd2",
   "metadata": {},
   "source": [
    "Q3. What is multiple inheritance? Write a python code to demonstrate multiple inheritance.\n"
   ]
  },
  {
   "cell_type": "markdown",
   "id": "d90a0985",
   "metadata": {},
   "source": [
    "The multiple inheritance is the method of inheriting data of the multiple classes with the help of a single class in which we pass the names of the classes  when we create the class so that the properties of both the classes can be inherited by the third class"
   ]
  },
  {
   "cell_type": "code",
   "execution_count": 31,
   "id": "c4e04bd1",
   "metadata": {},
   "outputs": [],
   "source": [
    "class mummy:\n",
    "    \n",
    "    def classm (self):\n",
    "        \n",
    "        print(\"Mom is more danger than dad\")"
   ]
  },
  {
   "cell_type": "code",
   "execution_count": 32,
   "id": "ad82b6c4",
   "metadata": {},
   "outputs": [],
   "source": [
    "class dad:\n",
    "    \n",
    "    def classd(self):\n",
    "        \n",
    "        print(\"Dad is chill\")"
   ]
  },
  {
   "cell_type": "code",
   "execution_count": 33,
   "id": "9eb59780",
   "metadata": {},
   "outputs": [],
   "source": [
    "class classchild (mummy , dad):\n",
    "    \n",
    "    pass"
   ]
  },
  {
   "cell_type": "code",
   "execution_count": 34,
   "id": "8d850eeb",
   "metadata": {},
   "outputs": [],
   "source": [
    "son = classchild()"
   ]
  },
  {
   "cell_type": "code",
   "execution_count": 35,
   "id": "1a692812",
   "metadata": {},
   "outputs": [
    {
     "name": "stdout",
     "output_type": "stream",
     "text": [
      "Dad is chill\n"
     ]
    }
   ],
   "source": [
    "son.classd()"
   ]
  },
  {
   "cell_type": "code",
   "execution_count": 37,
   "id": "dea3eb2f",
   "metadata": {},
   "outputs": [
    {
     "name": "stdout",
     "output_type": "stream",
     "text": [
      "Mom is more danger than dad\n"
     ]
    }
   ],
   "source": [
    "son.classm()"
   ]
  },
  {
   "cell_type": "markdown",
   "id": "9343ef46",
   "metadata": {},
   "source": [
    "Q4. What are getter and setter in python? Create a class and create a getter and a setter method in this\n",
    "class.\n"
   ]
  },
  {
   "cell_type": "markdown",
   "id": "391fb9b8",
   "metadata": {},
   "source": [
    "In Python, getters and setters are methods used for controlling access to class attributes. Getters retrieve the value of an attribute, while setters modify or update the value of an attribute, often including additional logic for validation or computation."
   ]
  },
  {
   "cell_type": "code",
   "execution_count": 38,
   "id": "7aff8caf",
   "metadata": {},
   "outputs": [
    {
     "name": "stdout",
     "output_type": "stream",
     "text": [
      "42\n"
     ]
    }
   ],
   "source": [
    "class MyClass:\n",
    "    def __init__(self):\n",
    "        self._my_attribute = None  \n",
    "\n",
    "    def get_my_attribute(self):\n",
    "        return self._my_attribute\n",
    "\n",
    "    def set_my_attribute(self, value):\n",
    "        self._my_attribute = value\n",
    "\n",
    "obj = MyClass()\n",
    "\n",
    "obj.set_my_attribute(42)\n",
    "\n",
    "print(obj.get_my_attribute())  \n"
   ]
  },
  {
   "cell_type": "markdown",
   "id": "b23026e7",
   "metadata": {},
   "source": [
    "Q5.What is method overriding in python? Write a python code to demonstrate method overriding."
   ]
  },
  {
   "cell_type": "markdown",
   "id": "0400c7ef",
   "metadata": {},
   "source": [
    "Method overriding in Python refers to the process of defining a method in a subclass that has the same name as a method in its superclass, allowing the subclass to provide its own implementation of the method. This allows for customization and specialization of behavior for specific subclasses while maintaining a consistent interface."
   ]
  },
  {
   "cell_type": "code",
   "execution_count": 39,
   "id": "4b2c7c74",
   "metadata": {},
   "outputs": [
    {
     "name": "stdout",
     "output_type": "stream",
     "text": [
      "Woof woof!\n",
      "Meow meow!\n"
     ]
    }
   ],
   "source": [
    "class Animal:\n",
    "    def make_sound(self):\n",
    "        print(\"Generic animal sound\")\n",
    "\n",
    "class Dog(Animal):\n",
    "    def make_sound(self):\n",
    "        print(\"Woof woof!\")\n",
    "\n",
    "class Cat(Animal):\n",
    "    def make_sound(self):\n",
    "        print(\"Meow meow!\")\n",
    "\n",
    "dog = Dog()\n",
    "cat = Cat()\n",
    "\n",
    "dog.make_sound()  \n",
    "cat.make_sound()  \n"
   ]
  },
  {
   "cell_type": "code",
   "execution_count": null,
   "id": "1a427b06",
   "metadata": {},
   "outputs": [],
   "source": []
  }
 ],
 "metadata": {
  "kernelspec": {
   "display_name": "Python 3 (ipykernel)",
   "language": "python",
   "name": "python3"
  },
  "language_info": {
   "codemirror_mode": {
    "name": "ipython",
    "version": 3
   },
   "file_extension": ".py",
   "mimetype": "text/x-python",
   "name": "python",
   "nbconvert_exporter": "python",
   "pygments_lexer": "ipython3",
   "version": "3.9.13"
  }
 },
 "nbformat": 4,
 "nbformat_minor": 5
}
