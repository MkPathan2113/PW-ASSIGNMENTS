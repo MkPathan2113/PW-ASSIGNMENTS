{
 "cells": [
  {
   "cell_type": "markdown",
   "id": "70836881",
   "metadata": {},
   "source": [
    "Q1. Which keyword is used to create a function? Create a function to return a list of odd numbers in the\n",
    "range of 1 to 25."
   ]
  },
  {
   "cell_type": "markdown",
   "id": "873d3c37",
   "metadata": {},
   "source": [
    "For declaring a function in pyhton the \"def\" keyword is used and this is used just before the name of the function so that\n",
    "the interpreter can understand that the function is created "
   ]
  },
  {
   "cell_type": "code",
   "execution_count": 3,
   "id": "eb0d764a",
   "metadata": {},
   "outputs": [
    {
     "data": {
      "text/plain": [
       "[1, 3, 5, 7, 9, 11, 13, 15, 17, 19, 21, 23, 25]"
      ]
     },
     "execution_count": 3,
     "metadata": {},
     "output_type": "execute_result"
    }
   ],
   "source": [
    "def oddnum (n):\n",
    "    l = []\n",
    "    for i in range (n+1):\n",
    "        if i % 2 != 0 :\n",
    "            l.append(i)\n",
    "    return l\n",
    "\n",
    "oddnum(25)"
   ]
  },
  {
   "cell_type": "markdown",
   "id": "6c392142",
   "metadata": {},
   "source": [
    "Q2. Why *args and **kwargs is used in some functions? Create a function each for *args and **kwargs\n",
    "to demonstrate their use."
   ]
  },
  {
   "cell_type": "markdown",
   "id": "77b5e188",
   "metadata": {},
   "source": [
    "1) args :- This keyword is used to declare a function which can take n number of parameters in that when user is calling the function and returns the result in the form of tuple \n",
    "\n",
    "2) **kwargs :- This is used to declare a function which can take input in the form of key value pairs and rerurns the resule in the form of the dictonary"
   ]
  },
  {
   "cell_type": "code",
   "execution_count": 7,
   "id": "8a30b256",
   "metadata": {},
   "outputs": [
    {
     "data": {
      "text/plain": [
       "(1, 2, 3, 'Mk')"
      ]
     },
     "execution_count": 7,
     "metadata": {},
     "output_type": "execute_result"
    }
   ],
   "source": [
    "def args(*args):\n",
    "     return args\n",
    "    \n",
    "args(1,2,3,\"Mk\")"
   ]
  },
  {
   "cell_type": "code",
   "execution_count": 8,
   "id": "ea1b4a29",
   "metadata": {},
   "outputs": [
    {
     "data": {
      "text/plain": [
       "{'a': [1, 2, 3], 'b': 'Shubh'}"
      ]
     },
     "execution_count": 8,
     "metadata": {},
     "output_type": "execute_result"
    }
   ],
   "source": [
    "def args(**kwargs):\n",
    "     return kwargs\n",
    "    \n",
    "args(a = [1,2,3] , b = \"Shubh\")"
   ]
  },
  {
   "cell_type": "markdown",
   "id": "1c470bbe",
   "metadata": {},
   "source": [
    "Q3. What is an iterator in python? Name the method used to initialise the iterator object and the method\n",
    "used for iteration. Use these methods to print the first five elements of the given list [2, 4, 6, 8, 10, 12, 14,\n",
    "16, 18, 20]."
   ]
  },
  {
   "cell_type": "markdown",
   "id": "ec7d887e",
   "metadata": {},
   "source": [
    "The iterator in python is a method which iterates over the elements of perticular item and with the help of the next method \n",
    "we can extract the items one by one"
   ]
  },
  {
   "cell_type": "code",
   "execution_count": 13,
   "id": "576689ee",
   "metadata": {},
   "outputs": [
    {
     "name": "stdout",
     "output_type": "stream",
     "text": [
      "2\n",
      "4\n",
      "6\n",
      "8\n",
      "10\n",
      "12\n",
      "14\n",
      "16\n",
      "18\n",
      "20\n"
     ]
    }
   ],
   "source": [
    "list = [2, 4, 6, 8, 10, 12, 14, 16, 18, 20]\n",
    "\n",
    "list = iter(list)\n",
    "\n",
    "\n",
    "print(next(list))\n",
    "\n",
    "print(next(list))\n",
    "\n",
    "print(next(list))\n",
    "\n",
    "print(next(list))\n",
    "\n",
    "print(next(list))\n",
    "\n",
    "print(next(list))\n",
    "\n",
    "print(next(list))\n",
    "\n",
    "print(next(list))\n",
    "\n",
    "print(next(list))\n",
    "\n",
    "print(next(list))"
   ]
  },
  {
   "cell_type": "markdown",
   "id": "3629ee7c",
   "metadata": {},
   "source": [
    "Q4. What is a generator function in python? Why yield keyword is used? Give an example of a generator\n",
    "function."
   ]
  },
  {
   "cell_type": "markdown",
   "id": "44811e03",
   "metadata": {},
   "source": [
    "A generator function in Python is a special type of function that generates a sequence of values lazily, using the yield keyword to temporarily suspend execution and yield control back to the caller, allowing for memory-efficient iteration over large datasets or infinite sequences."
   ]
  },
  {
   "cell_type": "code",
   "execution_count": 10,
   "id": "7c06702d",
   "metadata": {},
   "outputs": [
    {
     "name": "stdout",
     "output_type": "stream",
     "text": [
      "0\n",
      "1\n",
      "1\n",
      "2\n",
      "3\n"
     ]
    }
   ],
   "source": [
    "def fib (n):\n",
    "    \n",
    "    a,b = 0,1\n",
    "    \n",
    "    for i in range (n):\n",
    "        yield a \n",
    "        a,b = b, a+b\n",
    "        \n",
    "for i in fib(5):\n",
    "    print(i)"
   ]
  },
  {
   "cell_type": "markdown",
   "id": "4d177d84",
   "metadata": {},
   "source": [
    "Q5. Create a generator function for prime numbers less than 1000. Use the next() method to print the\n",
    "first 20 prime numbers."
   ]
  },
  {
   "cell_type": "code",
   "execution_count": 15,
   "id": "58211518",
   "metadata": {},
   "outputs": [
    {
     "name": "stdout",
     "output_type": "stream",
     "text": [
      "2\n",
      "3\n",
      "5\n",
      "7\n",
      "11\n",
      "13\n",
      "17\n",
      "19\n",
      "23\n",
      "29\n",
      "31\n",
      "37\n",
      "41\n",
      "43\n",
      "47\n",
      "53\n",
      "59\n",
      "61\n",
      "67\n",
      "71\n"
     ]
    }
   ],
   "source": [
    "def generate_primes():\n",
    "    num = 2\n",
    "    while num < 1000:\n",
    "        if all(num % i != 0 for i in range(2, int(num ** 0.5) + 1)):\n",
    "            yield num\n",
    "        num += 1\n",
    "\n",
    "prime_generator = generate_primes()\n",
    "\n",
    "for i in range(20):\n",
    "    print(next(prime_generator))\n"
   ]
  },
  {
   "cell_type": "markdown",
   "id": "3838e6b8",
   "metadata": {},
   "source": [
    "Q6. Write a python program to print the first 10 Fibonacci numbers using a while loop."
   ]
  },
  {
   "cell_type": "code",
   "execution_count": 19,
   "id": "0ac52a8f",
   "metadata": {},
   "outputs": [
    {
     "name": "stdout",
     "output_type": "stream",
     "text": [
      "0\n",
      "1\n",
      "1\n",
      "2\n",
      "3\n",
      "5\n",
      "8\n",
      "13\n",
      "21\n",
      "34\n"
     ]
    }
   ],
   "source": [
    "a,b = 0,1 \n",
    "print(a)\n",
    "print(b)\n",
    "\n",
    "count = 0\n",
    "\n",
    "while count < 8:\n",
    "    \n",
    "    fib = a+b\n",
    "    print(fib)\n",
    "    a,b = b, fib \n",
    "    \n",
    "    count = count +1\n",
    "    \n",
    "    \n",
    "    \n",
    "    "
   ]
  },
  {
   "cell_type": "markdown",
   "id": "6a4702c9",
   "metadata": {},
   "source": [
    "Q7. Write a List Comprehension to iterate through the given string: ‘pwskills’.\n",
    "Expected output: ['p', 'w', 's', 'k', 'i', 'l', 'l', 's']"
   ]
  },
  {
   "cell_type": "code",
   "execution_count": 24,
   "id": "aecb63da",
   "metadata": {},
   "outputs": [
    {
     "name": "stdout",
     "output_type": "stream",
     "text": [
      "['p', 'w', 's', 'k', 'i', 'l', 'l', 's']\n"
     ]
    }
   ],
   "source": [
    "input_string = 'pwskills'\n",
    "\n",
    "output_list = [char for char in input_string ]\n",
    "\n",
    "print(output_list)"
   ]
  },
  {
   "cell_type": "markdown",
   "id": "252ae1e2",
   "metadata": {},
   "source": [
    "Q8. Write a python program to check whether a given number is Palindrome or not using a while loop."
   ]
  },
  {
   "cell_type": "code",
   "execution_count": 25,
   "id": "62d394ca",
   "metadata": {},
   "outputs": [
    {
     "name": "stdout",
     "output_type": "stream",
     "text": [
      "121 is a palindrome\n",
      "12321 is a palindrome\n",
      "12345 is not a palindrome\n",
      "1001 is a palindrome\n"
     ]
    }
   ],
   "source": [
    "def is_palindrome(num):\n",
    "    original_num = num\n",
    "    reversed_num = 0\n",
    "    \n",
    "    while num > 0:\n",
    "        digit = num % 10\n",
    "        reversed_num = reversed_num * 10 + digit\n",
    "        num //= 10\n",
    "    \n",
    "    return original_num == reversed_num\n",
    "\n",
    "# Test cases\n",
    "test_numbers = [121, 12321, 12345, 1001]\n",
    "\n",
    "for num in test_numbers:\n",
    "    if is_palindrome(num):\n",
    "        print(f\"{num} is a palindrome\")\n",
    "    else:\n",
    "        print(f\"{num} is not a palindrome\")\n"
   ]
  },
  {
   "cell_type": "markdown",
   "id": "d8266ebc",
   "metadata": {},
   "source": [
    "Q9. Write a code to print odd numbers from 1 to 100 using list comprehension.\n",
    "Note: Use a list comprehension to create a list from 1 to 100 and use another List comprehension to filter\n",
    "out odd numbers."
   ]
  },
  {
   "cell_type": "code",
   "execution_count": 26,
   "id": "1fea6f2c",
   "metadata": {},
   "outputs": [
    {
     "name": "stdout",
     "output_type": "stream",
     "text": [
      "[1, 3, 5, 7, 9, 11, 13, 15, 17, 19, 21, 23, 25, 27, 29, 31, 33, 35, 37, 39, 41, 43, 45, 47, 49, 51, 53, 55, 57, 59, 61, 63, 65, 67, 69, 71, 73, 75, 77, 79, 81, 83, 85, 87, 89, 91, 93, 95, 97, 99]\n"
     ]
    }
   ],
   "source": [
    "numbers = [num for num in range(1, 101)]\n",
    "\n",
    "odd_numbers = [num for num in numbers if num % 2 != 0]\n",
    "\n",
    "print(odd_numbers)\n"
   ]
  },
  {
   "cell_type": "code",
   "execution_count": null,
   "id": "fe1de163",
   "metadata": {},
   "outputs": [],
   "source": []
  }
 ],
 "metadata": {
  "kernelspec": {
   "display_name": "Python 3 (ipykernel)",
   "language": "python",
   "name": "python3"
  },
  "language_info": {
   "codemirror_mode": {
    "name": "ipython",
    "version": 3
   },
   "file_extension": ".py",
   "mimetype": "text/x-python",
   "name": "python",
   "nbconvert_exporter": "python",
   "pygments_lexer": "ipython3",
   "version": "3.9.13"
  }
 },
 "nbformat": 4,
 "nbformat_minor": 5
}
